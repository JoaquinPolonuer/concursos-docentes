{
 "cells": [
  {
   "cell_type": "code",
   "execution_count": 1,
   "id": "7a36e688",
   "metadata": {},
   "outputs": [],
   "source": [
    "import numpy as np\n",
    "from numpy.linalg import norm, eigvals, inv\n",
    "import matplotlib.pyplot as plt"
   ]
  },
  {
   "cell_type": "markdown",
   "id": "3265aeaa",
   "metadata": {},
   "source": [
    "### 1. Normas matriciales."
   ]
  },
  {
   "cell_type": "code",
   "execution_count": 110,
   "id": "24ca162f",
   "metadata": {},
   "outputs": [],
   "source": [
    "def vector_en_B(raiz=True):\n",
    "    x = np.random.rand(3) - 0.5\n",
    "    x /= norm(x, 2)\n",
    "    x *= np.sqrt(np.random.rand())\n",
    "    return x"
   ]
  },
  {
   "cell_type": "code",
   "execution_count": 126,
   "id": "d2ce3c05",
   "metadata": {},
   "outputs": [],
   "source": [
    "def calcular_norma_2(A):\n",
    "    s = 0\n",
    "    terminos = [s]\n",
    "    for i in range(100):\n",
    "        x = vector_en_B()\n",
    "        s = max(norm(A@x, 2)/norm(x, 2), s)\n",
    "        terminos.append(s)\n",
    "    return s, terminos"
   ]
  },
  {
   "cell_type": "code",
   "execution_count": 127,
   "id": "f02d922e",
   "metadata": {},
   "outputs": [],
   "source": [
    "A = np.random.rand(3,3)\n",
    "norma, sucesion = calcular_norma_2(A)"
   ]
  },
  {
   "cell_type": "code",
   "execution_count": 128,
   "id": "1c6daa6b",
   "metadata": {},
   "outputs": [
    {
     "name": "stdout",
     "output_type": "stream",
     "text": [
      "Norma calculada por la sucesion: 1.8031882884085668\n",
      "Norma segun numpy 1.8114159647562926\n"
     ]
    }
   ],
   "source": [
    "print(\"Norma calculada por la sucesion:\", norma)\n",
    "print(\"Norma segun numpy\", norm(A, 2))"
   ]
  },
  {
   "cell_type": "code",
   "execution_count": 129,
   "id": "d6a74d4b",
   "metadata": {},
   "outputs": [
    {
     "data": {
      "text/plain": [
       "<matplotlib.lines.Line2D at 0x7f657ec3db50>"
      ]
     },
     "execution_count": 129,
     "metadata": {},
     "output_type": "execute_result"
    },
    {
     "data": {
      "image/png": "[encoded data removed]",
      "text/plain": [
       "<Figure size 640x480 with 1 Axes>"
      ]
     },
     "metadata": {},
     "output_type": "display_data"
    }
   ],
   "source": [
    "plt.plot(sucesion)\n",
    "plt.axhline(norma, color = \"red\")"
   ]
  },
  {
   "cell_type": "markdown",
   "id": "cfc7bf3d",
   "metadata": {},
   "source": [
    "### 2. Resolucion de Ecuaciones"
   ]
  },
  {
   "cell_type": "code",
   "execution_count": 147,
   "id": "d8bdd03e",
   "metadata": {},
   "outputs": [],
   "source": [
    "def L(A):\n",
    "    return np.tril(A, -1)\n",
    "\n",
    "def D(A):\n",
    "    return np.diag(np.diag(A))\n",
    "    \n",
    "def U(A):\n",
    "    return np.triu(A, 1)"
   ]
  },
  {
   "cell_type": "code",
   "execution_count": 148,
   "id": "473dc623",
   "metadata": {},
   "outputs": [],
   "source": [
    "def T_J(A):\n",
    "    return -inv(D(A))@(L(A)+U(A))\n",
    "\n",
    "def C_J(A, b):\n",
    "    return inv(D(A))@b"
   ]
  },
  {
   "cell_type": "code",
   "execution_count": 149,
   "id": "51255d69",
   "metadata": {},
   "outputs": [],
   "source": [
    "def radio_espectral(A):\n",
    "    return np.max(np.abs(eigvals(A)))"
   ]
  },
  {
   "cell_type": "code",
   "execution_count": 176,
   "id": "63f309c2",
   "metadata": {},
   "outputs": [],
   "source": [
    "def metodo_J(A, b):\n",
    "    T = T_J(A)\n",
    "    C = C_J(A, b)\n",
    "    \n",
    "    x = np.random.rand(len(b))\n",
    "    \n",
    "    if radio_espectral(T) >= 1:\n",
    "        print(\"Radio espectral mayor o igual que 1\")\n",
    "        return None\n",
    "    \n",
    "    for i in range(1000):\n",
    "        x_next = T@x + C\n",
    "        \n",
    "        if (x_next == x).all():\n",
    "            print(\"Se encontro punto fijo\")\n",
    "            return x\n",
    "        \n",
    "        x = x_next\n",
    "        \n",
    "    print(\"Se alcanzo maximo de iteraciones\")\n",
    "    return x"
   ]
  },
  {
   "cell_type": "code",
   "execution_count": 213,
   "id": "621f023d",
   "metadata": {},
   "outputs": [
    {
     "name": "stdout",
     "output_type": "stream",
     "text": [
      "Se encontro punto fijo\n",
      "Resultado de Ax: [0.35067295 0.01388725 0.52155141]\n",
      "B: [0.35067295 0.01388725 0.52155141]\n"
     ]
    }
   ],
   "source": [
    "# Ejemplo 1\n",
    "A = np.array([[3,1,1],[2,6,1],[1,1,4]])\n",
    "b = np.array([5,9,6])\n",
    "x = metodo_J(A, b)\n",
    "print(\"Resultado de Ax:\", A@x)"
   ]
  },
  {
   "cell_type": "markdown",
   "id": "fb86edd0",
   "metadata": {},
   "source": [
    "### 3. Resolucion de Ecuaciones"
   ]
  },
  {
   "cell_type": "code",
   "execution_count": 216,
   "id": "1435ce0f",
   "metadata": {},
   "outputs": [],
   "source": [
    "def newton_raphson(f, f_, x0, e, N):\n",
    "    x = x0\n",
    "    for i in range(N):\n",
    "        x_next = x - f(x)/(f_(x))\n",
    "        if abs(x_next - x) < e:\n",
    "            return x    \n",
    "        x = x_next\n",
    "    print(\"No se alcanzo la convergencia\")\n",
    "    return None"
   ]
  },
  {
   "cell_type": "code",
   "execution_count": 228,
   "id": "b094753f",
   "metadata": {},
   "outputs": [
    {
     "name": "stdout",
     "output_type": "stream",
     "text": [
      "Raiz encontrada: 1.0495733199381683\n",
      "f evaluada en raiz 0.06629220177446937\n"
     ]
    }
   ],
   "source": [
    "def f(x):\n",
    "    return pow(x, 15) - 2\n",
    "    \n",
    "def f_(x):\n",
    "    return 15*pow(x, 14)\n",
    "\n",
    "x0 = 1\n",
    "e = 10e-3\n",
    "N = 100\n",
    "xr = newton_raphson(f, f_, x0, e, N)\n",
    "\n",
    "print(\"Raiz encontrada:\", xr)\n",
    "print(\"f evaluada en raiz\", f(xr))"
   ]
  },
  {
   "cell_type": "markdown",
   "id": "31bda236",
   "metadata": {},
   "source": [
    "### 4. Ecuaciones Diferenciales"
   ]
  },
  {
   "cell_type": "code",
   "execution_count": 108,
   "id": "4b962cd4",
   "metadata": {},
   "outputs": [],
   "source": [
    "def euler(f, x0, t0, tf, h):\n",
    "    \n",
    "    ts = [t0]\n",
    "    xs = [x0]\n",
    "    \n",
    "    t = t0 + h\n",
    "    x = x0\n",
    "    \n",
    "    while t < tf:\n",
    "        x = x + h*f(t, x)\n",
    "        \n",
    "        ts.append(t)\n",
    "        xs.append(x)\n",
    "\n",
    "        t = t + h \n",
    "    \n",
    "    return ts, xs"
   ]
  },
  {
   "cell_type": "code",
   "execution_count": 109,
   "id": "f80c7860",
   "metadata": {},
   "outputs": [],
   "source": [
    "# Ecuación diferencial: x'(t) = 2*x(t)+1\n",
    "def f(t, x):\n",
    "    return 2*x+1\n",
    "\n",
    "# Solución exacta de la ecuación diferencial\n",
    "def solucion_exacta(t, x0):\n",
    "    return (x0+0.5)*np.exp(2*t) - 0.5"
   ]
  },
  {
   "cell_type": "code",
   "execution_count": 110,
   "id": "1cd674d1",
   "metadata": {},
   "outputs": [],
   "source": [
    "ts_euler, xs_euler = euler(f, 1, 0, 1, h=0.01) "
   ]
  },
  {
   "cell_type": "code",
   "execution_count": 113,
   "id": "a2d526ef",
   "metadata": {},
   "outputs": [
    {
     "data": {
      "text/plain": [
       "(0.9900000000000007, 10.15389135037108)"
      ]
     },
     "execution_count": 113,
     "metadata": {},
     "output_type": "execute_result"
    }
   ],
   "source": [
    "ts_euler[-1], xs_euler[-1]"
   ]
  },
  {
   "cell_type": "code",
   "execution_count": 114,
   "id": "5c5fe691",
   "metadata": {},
   "outputs": [
    {
     "data": {
      "text/plain": [
       "<matplotlib.legend.Legend at 0x7f464e42ee80>"
      ]
     },
     "execution_count": 114,
     "metadata": {},
     "output_type": "execute_result"
    },
    {
     "data": {
      "image/png": "[encoded data removed]",
      "text/plain": [
       "<Figure size 640x480 with 1 Axes>"
      ]
     },
     "metadata": {},
     "output_type": "display_data"
    }
   ],
   "source": [
    "plt.plot(ts_euler, xs_euler, label=\"Euler\")\n",
    "plt.plot(ts_euler, [solucion_exacta(t, 1) for t in ts_euler], label=\"Exacta\")\n",
    "plt.legend()"
   ]
  },
  {
   "cell_type": "markdown",
   "id": "34fd82c2",
   "metadata": {},
   "source": [
    "### 5. Ecuaciones Diferenciales"
   ]
  },
  {
   "cell_type": "code",
   "execution_count": 124,
   "id": "fc3e590f",
   "metadata": {},
   "outputs": [],
   "source": [
    "def euler_orden_2(f, x0, t0, tf, h):\n",
    "\n",
    "    ts = [t0]\n",
    "    xs = [x0]\n",
    "\n",
    "    t = t0 + h\n",
    "    x = x0\n",
    "    \n",
    "    while t < tf:\n",
    "        x = x + (h/2) * (f(t, x) + f(t + h, x + h * f(t, x)))\n",
    "        \n",
    "        ts.append(t)\n",
    "        xs.append(x)\n",
    "\n",
    "        t = t + h \n",
    "        \n",
    "    return ts, xs"
   ]
  },
  {
   "cell_type": "code",
   "execution_count": 125,
   "id": "1400f4b6",
   "metadata": {},
   "outputs": [],
   "source": [
    "def taylor(f, f_, x0, t0, tf, h):\n",
    "\n",
    "    ts = [t0]\n",
    "    xs = [x0]\n",
    "\n",
    "    t = t0 + h\n",
    "    x = x0\n",
    "    \n",
    "    while t < tf:\n",
    "        x = x + h*f(t, x) + (1/2)*(h**2)*(f_(t,x))\n",
    "        \n",
    "        ts.append(t)\n",
    "        xs.append(x)\n",
    "\n",
    "        t = t + h \n",
    "\n",
    "    return ts, xs"
   ]
  },
  {
   "cell_type": "code",
   "execution_count": 126,
   "id": "cce09161",
   "metadata": {},
   "outputs": [],
   "source": [
    "def f(t, x):\n",
    "    return 2*x+1\n",
    "\n",
    "def f_(t, x):\n",
    "    return 2*f(t, x)\n",
    "\n",
    "def solucion_exacta(t, x0):\n",
    "    return (x0+0.5)*np.exp(2*t) - 0.5"
   ]
  },
  {
   "cell_type": "code",
   "execution_count": 127,
   "id": "32313745",
   "metadata": {},
   "outputs": [],
   "source": [
    "hs = [0.1, 0.05, 0.01, 0.005, 0.001]\n",
    "errores_euler = []\n",
    "errores_taylor = []\n",
    "for h in hs:\n",
    "    tf = 1\n",
    "    \n",
    "    ts_euler, xs_euler = euler_orden_2(f, 1, 0, tf, h)\n",
    "    ts_taylor, xs_taylor = taylor(f, f_, 1, 0 ,tf, h)\n",
    "\n",
    "    errores_euler.append(abs(solucion_exacta(tf, 1) - xs_euler[-1]))\n",
    "    errores_taylor.append(abs(solucion_exacta(tf, 1) - xs_taylor[-1]))"
   ]
  },
  {
   "cell_type": "code",
   "execution_count": 128,
   "id": "53f5bc5f",
   "metadata": {},
   "outputs": [
    {
     "data": {
      "text/plain": [
       "<matplotlib.legend.Legend at 0x7f464e32b250>"
      ]
     },
     "execution_count": 128,
     "metadata": {},
     "output_type": "execute_result"
    },
    {
     "data": {
      "image/png": "[encoded data removed]",
      "text/plain": [
       "<Figure size 640x480 with 1 Axes>"
      ]
     },
     "metadata": {},
     "output_type": "display_data"
    }
   ],
   "source": [
    "# Graficar log(EN) en función de log(h)\n",
    "plt.scatter(np.log(hs), np.log(errores_euler), label='Error Euler')\n",
    "plt.scatter(np.log(hs), np.log(errores_taylor), label='Error Taylor')\n",
    "plt.xlabel('-log(h)')\n",
    "plt.ylabel('log(EN)')\n",
    "plt.legend()"
   ]
  },
  {
   "cell_type": "markdown",
   "id": "810cc1cd",
   "metadata": {},
   "source": [
    "### 6. Cuadrados Minimos"
   ]
  },
  {
   "cell_type": "code",
   "execution_count": 133,
   "id": "55ecf7bc",
   "metadata": {},
   "outputs": [],
   "source": [
    "def cuadrados_minimos(x, y, w):\n",
    "    A = np.zeros((len(x), 2))\n",
    "    y = np.sqrt(w)*y #element-wise\n",
    "\n",
    "    for i in range(len(x)):\n",
    "        raiz_wi = np.sqrt(w[i])\n",
    "        A[i] = [raiz_wi*x[i], raiz_wi]\n",
    "    \n",
    "    a, b = np.linalg.solve(A.T@A, A.T@y)\n",
    "    \n",
    "    def ajuste(x):\n",
    "        return a*x + b\n",
    "    \n",
    "    return ajuste"
   ]
  },
  {
   "cell_type": "code",
   "execution_count": 138,
   "id": "136eb1b0",
   "metadata": {},
   "outputs": [],
   "source": [
    "w = np.array([1, 0.5, 1, 0.5, 0.5])\n",
    "x = np.array([1, 2, 3, 4, 5])\n",
    "y = np.array([3, 5.01, 7.02, 9.1, 11.1])"
   ]
  },
  {
   "cell_type": "code",
   "execution_count": 139,
   "id": "f2444b20",
   "metadata": {},
   "outputs": [],
   "source": [
    "ajuste = cuadrados_minimos(x,y,w)"
   ]
  },
  {
   "cell_type": "code",
   "execution_count": 140,
   "id": "323357e0",
   "metadata": {},
   "outputs": [
    {
     "data": {
      "text/plain": [
       "[<matplotlib.lines.Line2D at 0x7f464e146700>]"
      ]
     },
     "execution_count": 140,
     "metadata": {},
     "output_type": "execute_result"
    },
    {
     "data": {
      "image/png": "[encoded data removed]",
      "text/plain": [
       "<Figure size 640x480 with 1 Axes>"
      ]
     },
     "metadata": {},
     "output_type": "display_data"
    }
   ],
   "source": [
    "plt.scatter(x, y)\n",
    "plt.plot(x, [ajuste(xi) for xi in x])"
   ]
  },
  {
   "cell_type": "code",
   "execution_count": 141,
   "id": "2bb6bb1f",
   "metadata": {},
   "outputs": [
    {
     "data": {
      "text/plain": [
       "<matplotlib.lines.Line2D at 0x7f464e341fd0>"
      ]
     },
     "execution_count": 141,
     "metadata": {},
     "output_type": "execute_result"
    },
    {
     "data": {
      "image/png": "[encoded data removed]",
      "text/plain": [
       "<Figure size 640x480 with 1 Axes>"
      ]
     },
     "metadata": {},
     "output_type": "display_data"
    }
   ],
   "source": [
    "errores = [yi - ajuste(xi) for xi, yi in zip(x,y)]\n",
    "plt.scatter(x, errores)\n",
    "plt.axhline(0)"
   ]
  },
  {
   "cell_type": "markdown",
   "id": "af914626",
   "metadata": {},
   "source": [
    "### 7. Integracion Numerica"
   ]
  },
  {
   "cell_type": "code",
   "execution_count": 244,
   "id": "4ab8c879",
   "metadata": {},
   "outputs": [],
   "source": [
    "def integral(f, a, b, n):\n",
    "    intervalos = np.linspace(a, b, n)\n",
    "    area = 0\n",
    "    for i in range(len(intervalos) - 1):\n",
    "        a, b = intervalos[i], intervalos[i+1]\n",
    "        dA = (b-a)*(f(a) + f(b))/2 \n",
    "        area += dA\n",
    "    return area"
   ]
  },
  {
   "cell_type": "code",
   "execution_count": 245,
   "id": "f4d1775b",
   "metadata": {},
   "outputs": [
    {
     "data": {
      "text/plain": [
       "0.878095660993877"
      ]
     },
     "execution_count": 245,
     "metadata": {},
     "output_type": "execute_result"
    }
   ],
   "source": [
    "def f(x):\n",
    "    return 1/np.sqrt(1+x**2)\n",
    "\n",
    "integral(f, 0, 1, 4)"
   ]
  },
  {
   "cell_type": "code",
   "execution_count": null,
   "id": "431cbb15",
   "metadata": {},
   "outputs": [],
   "source": []
  }
 ],
 "metadata": {
  "kernelspec": {
   "display_name": "Python 3 (ipykernel)",
   "language": "python",
   "name": "python3"
  },
  "language_info": {
   "codemirror_mode": {
    "name": "ipython",
    "version": 3
   },
   "file_extension": ".py",
   "mimetype": "text/x-python",
   "name": "python",
   "nbconvert_exporter": "python",
   "pygments_lexer": "ipython3",
   "version": "3.8.10"
  }
 },
 "nbformat": 4,
 "nbformat_minor": 5
}
